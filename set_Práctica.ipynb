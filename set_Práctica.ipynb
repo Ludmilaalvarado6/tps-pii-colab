{
  "nbformat": 4,
  "nbformat_minor": 0,
  "metadata": {
    "colab": {
      "provenance": [],
      "include_colab_link": true
    },
    "kernelspec": {
      "name": "python3",
      "display_name": "Python 3"
    },
    "language_info": {
      "name": "python"
    }
  },
  "cells": [
    {
      "cell_type": "markdown",
      "metadata": {
        "id": "view-in-github",
        "colab_type": "text"
      },
      "source": [
        "<a href=\"https://colab.research.google.com/github/Ludmilaalvarado6/tps-pii-colab/blob/main/set_Pr%C3%A1ctica.ipynb\" target=\"_parent\"><img src=\"https://colab.research.google.com/assets/colab-badge.svg\" alt=\"Open In Colab\"/></a>"
      ]
    },
    {
      "cell_type": "code",
      "execution_count": 34,
      "metadata": {
        "id": "8VOD-zpMJovw"
      },
      "outputs": [],
      "source": [
        "estudiantes = [\n",
        "    {'name': 'Abud Laspiur, Lourdes Mariel', 'section': 'C', 'dob': '05/12/2006'},\n",
        "    {'name': 'Amador, Luana Micaela', 'section': 'C', 'dob': '09/12/2006'},\n",
        "    {'name': 'Anaquin, Leonardo Ezequiel', 'section': 'C', 'dob': '06/09/2005'},\n",
        "    {'name': 'Araoz Sanchez, Lautaro Nahuel', 'section': 'C', 'dob': '28/12/2005'},\n",
        "    {'name': 'Argañaraz, Agostina Abril', 'section': 'C', 'dob': '11/10/2006'},\n",
        "    {'name': 'Barrera, Matias Ezequiel', 'section': 'C', 'dob': '27/02/2007'},\n",
        "    {'name': 'Barrera, Matias Ezequiel', 'section': 'C', 'dob': '27/02/2007'},  # Repetido\n",
        "    {'name': 'Barrozo Vedia, Joaquin Nicolas', 'section': 'C', 'dob': '15/04/2006'},\n",
        "    {'name': 'Bettinelli, Valentino', 'section': 'C', 'dob': '12/07/2006'},\n",
        "    {'name': 'Bracamonte Martinez, Salvador', 'section': 'C', 'dob': '02/11/2005'},\n",
        "    {'name': 'Colque Rivero, Ariana Zoe Del Valle', 'section': 'C', 'dob': '27/12/2006'},\n",
        "    {'name': 'Diaz, Dulce Maitena', 'section': 'C', 'dob': '11/12/2006'},\n",
        "    {'name': 'Figueroa, Santino Josue', 'section': 'C', 'dob': '12/05/2007'},\n",
        "    {'name': 'Figueroa, Santino Josue', 'section': 'C', 'dob': '12/05/2007'},  # Repetido\n",
        "    {'name': 'Flores Cardozo, Agustina Tiara', 'section': 'C', 'dob': '18/03/2006'},\n",
        "    {'name': 'Gallo, Octavio Ismael', 'section': 'C', 'dob': '04/08/2006'},\n",
        "    {'name': 'Galvan, Lourdes Yamila', 'section': 'C', 'dob': '19/08/2005'},\n",
        "    {'name': 'Giangreco, Vitto Tomasso', 'section': 'C', 'dob': '21/03/2007'},\n",
        "    {'name': 'Grancara, Martina Luna', 'section': 'C', 'dob': '15/12/2006'},\n",
        "    {'name': 'Guanca, Sara Elizabeth', 'section': 'C', 'dob': '17/01/2007'},\n",
        "    {'name': 'Lopez, Victoria Constanza', 'section': 'C', 'dob': '12/11/2007'},\n",
        "    {'name': 'Mamani Garrido, Rosario Agostina', 'section': 'C', 'dob': '24/10/2006'},\n",
        "    {'name': 'Marinaro, Martin Ezequiel', 'section': 'C', 'dob': '03/11/2006'},\n",
        "    {'name': 'Merluzzi Dagum, Ignacio', 'section': 'C', 'dob': '22/12/2005'},\n",
        "    {'name': 'Messina, Martina', 'section': 'C', 'dob': '13/07/2005'},\n",
        "    {'name': 'Rasuk, Karim', 'section': 'C', 'dob': '13/07/2007'},\n",
        "    {'name': 'Rasuk, Karim', 'section': 'C', 'dob': '13/07/2007'},  # Repetido\n",
        "    {'name': 'Rios, Lucia Magali', 'section': 'C', 'dob': '22/09/2006'},\n",
        "    {'name': 'Sanchez Flores, Matías Agustín', 'section': 'C', 'dob': '15/02/2007'},\n",
        "    {'name': 'Scarano, Renato Marcelo', 'section': 'C', 'dob': '06/12/2006'},\n",
        "    {'name': 'Sierra, Lucas Mauricio', 'section': 'C', 'dob': '03/04/2005'},\n",
        "    {'name': 'Tapia, Martin Gabriel', 'section': 'C', 'dob': '30/05/2006'},\n",
        "    {'name': 'Vilte, Mia Antonella Alondra', 'section': 'C', 'dob': '10/09/2005'},\n",
        "    {'name': 'Virgillito, Katya Milena', 'section': 'C', 'dob': '19/06/2007'},\n",
        "    {'name': 'Alurralde, Solange Stefania', 'section': 'D', 'dob': '02/04/2007'},\n",
        "    {'name': 'Alvarado, Ludmila Del Milagro', 'section': 'D', 'dob': '06/09/2006'},\n",
        "    {'name': 'Angel, Camila Juliana', 'section': 'D', 'dob': '07/03/2007'},\n",
        "    {'name': 'Arenas, Lucas Gabriel', 'section': 'D', 'dob': '26/06/2007'},\n",
        "    {'name': 'Caseres, Maria Antonia', 'section': 'D', 'dob': '01/07/2006'},\n",
        "    {'name': 'Castillo, Paulina Milagros', 'section': 'D', 'dob': '01/06/2007'},\n",
        "    {'name': 'Correa Segovia, Hugo Mariano', 'section': 'D', 'dob': '04/12/2006'},\n",
        "    {'name': 'Correa Segovia, Hugo Mariano', 'section': 'D', 'dob': '04/12/2006'},  # Repetido\n",
        "    {'name': 'D Elia, Alvaro Tadeo', 'section': 'D', 'dob': '27/08/2006'},\n",
        "    {'name': 'Flores, Victoria Agustina', 'section': 'D', 'dob': '12/12/2006'},\n",
        "    {'name': 'Geronimo Soriano, Lizzie Amaya', 'section': 'D', 'dob': '20/01/2007'},\n",
        "    {'name': 'Guzman, Angélica Morena', 'section': 'D', 'dob': '11/04/2007'},\n",
        "    {'name': 'Guzman, Jazmin Esmeralda Belen', 'section': 'D', 'dob': '31/07/2006'},\n",
        "    {'name': 'Jaime, Anita Maria Belen', 'section': 'D', 'dob': '19/04/2007'},\n",
        "    {'name': 'Lacour Polo, Nazarena', 'section': 'D', 'dob': '19/12/2005'},\n",
        "    {'name': 'Lascano Guanca, Marcelo Fabricio', 'section': 'D', 'dob': '17/02/2006'},\n",
        "    {'name': 'Lezcano, Celia Morena', 'section': 'D', 'dob': '01/07/2005'},\n",
        "    {'name': 'Martinez, Tomas Andres', 'section': 'D', 'dob': '22/03/2007'},\n",
        "    {'name': 'Portella Valdivia, Pedro Francisco', 'section': 'D', 'dob': '24/01/2007'},\n",
        "    {'name': 'Retamal Cisneros, Zacarias Josue', 'section': 'D', 'dob': '24/02/2007'},\n",
        "    {'name': 'Rosales, Francisco Gabriel', 'section': 'D', 'dob': '14/11/2006'},\n",
        "    {'name': 'Salem Barba, Mahia', 'section': 'D', 'dob': '14/10/2005'},\n",
        "    {'name': 'Soto Camara, Agustin Ignacio', 'section': 'D', 'dob': '07/11/2005'},\n",
        "    {'name': 'Villalba, Irina', 'section': 'D', 'dob': '09/09/2006'},\n",
        "    {'name': 'Voltolini, Emanuel Tobias', 'section': 'D', 'dob': '17/09/2006'},\n",
        "    {'name': 'Zalazar, Santino Stefano', 'section': 'D', 'dob': '30/09/2006'},\n",
        "    {'name': 'Zalazar, Santino Stefano', 'section': 'D', 'dob': '30/09/2006'}  # Repetido\n",
        "]"
      ]
    },
    {
      "cell_type": "code",
      "source": [
        "# Spoiler de estructura que veremos en los siguientes TPs\n",
        "import json\n",
        "for estudiante in estudiantes:\n",
        "  alumno_json = json.dumps(estudiante,indent=4,ensure_ascii=False)\n",
        "  print(alumno_json,\",\")"
      ],
      "metadata": {
        "colab": {
          "base_uri": "https://localhost:8080/"
        },
        "id": "7lcHoIqemYFH",
        "outputId": "24014f26-4b3a-4eec-de96-07accf15be62"
      },
      "execution_count": 35,
      "outputs": [
        {
          "output_type": "stream",
          "name": "stdout",
          "text": [
            "{\n",
            "    \"name\": \"Abud Laspiur, Lourdes Mariel\",\n",
            "    \"section\": \"C\",\n",
            "    \"dob\": \"05/12/2006\"\n",
            "} ,\n",
            "{\n",
            "    \"name\": \"Amador, Luana Micaela\",\n",
            "    \"section\": \"C\",\n",
            "    \"dob\": \"09/12/2006\"\n",
            "} ,\n",
            "{\n",
            "    \"name\": \"Anaquin, Leonardo Ezequiel\",\n",
            "    \"section\": \"C\",\n",
            "    \"dob\": \"06/09/2005\"\n",
            "} ,\n",
            "{\n",
            "    \"name\": \"Araoz Sanchez, Lautaro Nahuel\",\n",
            "    \"section\": \"C\",\n",
            "    \"dob\": \"28/12/2005\"\n",
            "} ,\n",
            "{\n",
            "    \"name\": \"Argañaraz, Agostina Abril\",\n",
            "    \"section\": \"C\",\n",
            "    \"dob\": \"11/10/2006\"\n",
            "} ,\n",
            "{\n",
            "    \"name\": \"Barrera, Matias Ezequiel\",\n",
            "    \"section\": \"C\",\n",
            "    \"dob\": \"27/02/2007\"\n",
            "} ,\n",
            "{\n",
            "    \"name\": \"Barrera, Matias Ezequiel\",\n",
            "    \"section\": \"C\",\n",
            "    \"dob\": \"27/02/2007\"\n",
            "} ,\n",
            "{\n",
            "    \"name\": \"Barrozo Vedia, Joaquin Nicolas\",\n",
            "    \"section\": \"C\",\n",
            "    \"dob\": \"15/04/2006\"\n",
            "} ,\n",
            "{\n",
            "    \"name\": \"Bettinelli, Valentino\",\n",
            "    \"section\": \"C\",\n",
            "    \"dob\": \"12/07/2006\"\n",
            "} ,\n",
            "{\n",
            "    \"name\": \"Bracamonte Martinez, Salvador\",\n",
            "    \"section\": \"C\",\n",
            "    \"dob\": \"02/11/2005\"\n",
            "} ,\n",
            "{\n",
            "    \"name\": \"Colque Rivero, Ariana Zoe Del Valle\",\n",
            "    \"section\": \"C\",\n",
            "    \"dob\": \"27/12/2006\"\n",
            "} ,\n",
            "{\n",
            "    \"name\": \"Diaz, Dulce Maitena\",\n",
            "    \"section\": \"C\",\n",
            "    \"dob\": \"11/12/2006\"\n",
            "} ,\n",
            "{\n",
            "    \"name\": \"Figueroa, Santino Josue\",\n",
            "    \"section\": \"C\",\n",
            "    \"dob\": \"12/05/2007\"\n",
            "} ,\n",
            "{\n",
            "    \"name\": \"Figueroa, Santino Josue\",\n",
            "    \"section\": \"C\",\n",
            "    \"dob\": \"12/05/2007\"\n",
            "} ,\n",
            "{\n",
            "    \"name\": \"Flores Cardozo, Agustina Tiara\",\n",
            "    \"section\": \"C\",\n",
            "    \"dob\": \"18/03/2006\"\n",
            "} ,\n",
            "{\n",
            "    \"name\": \"Gallo, Octavio Ismael\",\n",
            "    \"section\": \"C\",\n",
            "    \"dob\": \"04/08/2006\"\n",
            "} ,\n",
            "{\n",
            "    \"name\": \"Galvan, Lourdes Yamila\",\n",
            "    \"section\": \"C\",\n",
            "    \"dob\": \"19/08/2005\"\n",
            "} ,\n",
            "{\n",
            "    \"name\": \"Giangreco, Vitto Tomasso\",\n",
            "    \"section\": \"C\",\n",
            "    \"dob\": \"21/03/2007\"\n",
            "} ,\n",
            "{\n",
            "    \"name\": \"Grancara, Martina Luna\",\n",
            "    \"section\": \"C\",\n",
            "    \"dob\": \"15/12/2006\"\n",
            "} ,\n",
            "{\n",
            "    \"name\": \"Guanca, Sara Elizabeth\",\n",
            "    \"section\": \"C\",\n",
            "    \"dob\": \"17/01/2007\"\n",
            "} ,\n",
            "{\n",
            "    \"name\": \"Lopez, Victoria Constanza\",\n",
            "    \"section\": \"C\",\n",
            "    \"dob\": \"12/11/2007\"\n",
            "} ,\n",
            "{\n",
            "    \"name\": \"Mamani Garrido, Rosario Agostina\",\n",
            "    \"section\": \"C\",\n",
            "    \"dob\": \"24/10/2006\"\n",
            "} ,\n",
            "{\n",
            "    \"name\": \"Marinaro, Martin Ezequiel\",\n",
            "    \"section\": \"C\",\n",
            "    \"dob\": \"03/11/2006\"\n",
            "} ,\n",
            "{\n",
            "    \"name\": \"Merluzzi Dagum, Ignacio\",\n",
            "    \"section\": \"C\",\n",
            "    \"dob\": \"22/12/2005\"\n",
            "} ,\n",
            "{\n",
            "    \"name\": \"Messina, Martina\",\n",
            "    \"section\": \"C\",\n",
            "    \"dob\": \"13/07/2005\"\n",
            "} ,\n",
            "{\n",
            "    \"name\": \"Rasuk, Karim\",\n",
            "    \"section\": \"C\",\n",
            "    \"dob\": \"13/07/2007\"\n",
            "} ,\n",
            "{\n",
            "    \"name\": \"Rasuk, Karim\",\n",
            "    \"section\": \"C\",\n",
            "    \"dob\": \"13/07/2007\"\n",
            "} ,\n",
            "{\n",
            "    \"name\": \"Rios, Lucia Magali\",\n",
            "    \"section\": \"C\",\n",
            "    \"dob\": \"22/09/2006\"\n",
            "} ,\n",
            "{\n",
            "    \"name\": \"Sanchez Flores, Matías Agustín\",\n",
            "    \"section\": \"C\",\n",
            "    \"dob\": \"15/02/2007\"\n",
            "} ,\n",
            "{\n",
            "    \"name\": \"Scarano, Renato Marcelo\",\n",
            "    \"section\": \"C\",\n",
            "    \"dob\": \"06/12/2006\"\n",
            "} ,\n",
            "{\n",
            "    \"name\": \"Sierra, Lucas Mauricio\",\n",
            "    \"section\": \"C\",\n",
            "    \"dob\": \"03/04/2005\"\n",
            "} ,\n",
            "{\n",
            "    \"name\": \"Tapia, Martin Gabriel\",\n",
            "    \"section\": \"C\",\n",
            "    \"dob\": \"30/05/2006\"\n",
            "} ,\n",
            "{\n",
            "    \"name\": \"Vilte, Mia Antonella Alondra\",\n",
            "    \"section\": \"C\",\n",
            "    \"dob\": \"10/09/2005\"\n",
            "} ,\n",
            "{\n",
            "    \"name\": \"Virgillito, Katya Milena\",\n",
            "    \"section\": \"C\",\n",
            "    \"dob\": \"19/06/2007\"\n",
            "} ,\n",
            "{\n",
            "    \"name\": \"Alurralde, Solange Stefania\",\n",
            "    \"section\": \"D\",\n",
            "    \"dob\": \"02/04/2007\"\n",
            "} ,\n",
            "{\n",
            "    \"name\": \"Alvarado, Ludmila Del Milagro\",\n",
            "    \"section\": \"D\",\n",
            "    \"dob\": \"06/09/2006\"\n",
            "} ,\n",
            "{\n",
            "    \"name\": \"Angel, Camila Juliana\",\n",
            "    \"section\": \"D\",\n",
            "    \"dob\": \"07/03/2007\"\n",
            "} ,\n",
            "{\n",
            "    \"name\": \"Arenas, Lucas Gabriel\",\n",
            "    \"section\": \"D\",\n",
            "    \"dob\": \"26/06/2007\"\n",
            "} ,\n",
            "{\n",
            "    \"name\": \"Caseres, Maria Antonia\",\n",
            "    \"section\": \"D\",\n",
            "    \"dob\": \"01/07/2006\"\n",
            "} ,\n",
            "{\n",
            "    \"name\": \"Castillo, Paulina Milagros\",\n",
            "    \"section\": \"D\",\n",
            "    \"dob\": \"01/06/2007\"\n",
            "} ,\n",
            "{\n",
            "    \"name\": \"Correa Segovia, Hugo Mariano\",\n",
            "    \"section\": \"D\",\n",
            "    \"dob\": \"04/12/2006\"\n",
            "} ,\n",
            "{\n",
            "    \"name\": \"Correa Segovia, Hugo Mariano\",\n",
            "    \"section\": \"D\",\n",
            "    \"dob\": \"04/12/2006\"\n",
            "} ,\n",
            "{\n",
            "    \"name\": \"D Elia, Alvaro Tadeo\",\n",
            "    \"section\": \"D\",\n",
            "    \"dob\": \"27/08/2006\"\n",
            "} ,\n",
            "{\n",
            "    \"name\": \"Flores, Victoria Agustina\",\n",
            "    \"section\": \"D\",\n",
            "    \"dob\": \"12/12/2006\"\n",
            "} ,\n",
            "{\n",
            "    \"name\": \"Geronimo Soriano, Lizzie Amaya\",\n",
            "    \"section\": \"D\",\n",
            "    \"dob\": \"20/01/2007\"\n",
            "} ,\n",
            "{\n",
            "    \"name\": \"Guzman, Angélica Morena\",\n",
            "    \"section\": \"D\",\n",
            "    \"dob\": \"11/04/2007\"\n",
            "} ,\n",
            "{\n",
            "    \"name\": \"Guzman, Jazmin Esmeralda Belen\",\n",
            "    \"section\": \"D\",\n",
            "    \"dob\": \"31/07/2006\"\n",
            "} ,\n",
            "{\n",
            "    \"name\": \"Jaime, Anita Maria Belen\",\n",
            "    \"section\": \"D\",\n",
            "    \"dob\": \"19/04/2007\"\n",
            "} ,\n",
            "{\n",
            "    \"name\": \"Lacour Polo, Nazarena\",\n",
            "    \"section\": \"D\",\n",
            "    \"dob\": \"19/12/2005\"\n",
            "} ,\n",
            "{\n",
            "    \"name\": \"Lascano Guanca, Marcelo Fabricio\",\n",
            "    \"section\": \"D\",\n",
            "    \"dob\": \"17/02/2006\"\n",
            "} ,\n",
            "{\n",
            "    \"name\": \"Lezcano, Celia Morena\",\n",
            "    \"section\": \"D\",\n",
            "    \"dob\": \"01/07/2005\"\n",
            "} ,\n",
            "{\n",
            "    \"name\": \"Martinez, Tomas Andres\",\n",
            "    \"section\": \"D\",\n",
            "    \"dob\": \"22/03/2007\"\n",
            "} ,\n",
            "{\n",
            "    \"name\": \"Portella Valdivia, Pedro Francisco\",\n",
            "    \"section\": \"D\",\n",
            "    \"dob\": \"24/01/2007\"\n",
            "} ,\n",
            "{\n",
            "    \"name\": \"Retamal Cisneros, Zacarias Josue\",\n",
            "    \"section\": \"D\",\n",
            "    \"dob\": \"24/02/2007\"\n",
            "} ,\n",
            "{\n",
            "    \"name\": \"Rosales, Francisco Gabriel\",\n",
            "    \"section\": \"D\",\n",
            "    \"dob\": \"14/11/2006\"\n",
            "} ,\n",
            "{\n",
            "    \"name\": \"Salem Barba, Mahia\",\n",
            "    \"section\": \"D\",\n",
            "    \"dob\": \"14/10/2005\"\n",
            "} ,\n",
            "{\n",
            "    \"name\": \"Soto Camara, Agustin Ignacio\",\n",
            "    \"section\": \"D\",\n",
            "    \"dob\": \"07/11/2005\"\n",
            "} ,\n",
            "{\n",
            "    \"name\": \"Villalba, Irina\",\n",
            "    \"section\": \"D\",\n",
            "    \"dob\": \"09/09/2006\"\n",
            "} ,\n",
            "{\n",
            "    \"name\": \"Voltolini, Emanuel Tobias\",\n",
            "    \"section\": \"D\",\n",
            "    \"dob\": \"17/09/2006\"\n",
            "} ,\n",
            "{\n",
            "    \"name\": \"Zalazar, Santino Stefano\",\n",
            "    \"section\": \"D\",\n",
            "    \"dob\": \"30/09/2006\"\n",
            "} ,\n",
            "{\n",
            "    \"name\": \"Zalazar, Santino Stefano\",\n",
            "    \"section\": \"D\",\n",
            "    \"dob\": \"30/09/2006\"\n",
            "} ,\n"
          ]
        }
      ]
    },
    {
      "cell_type": "markdown",
      "source": [
        "## Dada la lista estudiantes:\n",
        "> - Hacer una celda para resolver cada punto.\n",
        "- El TP resuelto será revisado en tu repositorio, no es necesario que lo envíes, pero sí que lo pushees correctamente.\n",
        "- En la nota inicial se contempla:\n",
        "  - La incorporación de este documento a tu propio respositorio.\n",
        "  - El pusheo de los cambios realizados.\n",
        "  - La resolución de los ejercicios propuestos.\n"
      ],
      "metadata": {
        "id": "rd6Ug6v3J4uN"
      }
    },
    {
      "cell_type": "markdown",
      "source": [
        "1. Dada la lista de estudiantes, elimina los elementos repetidos de la misma, usando para ello una estructura set. El resultado final debe ser una lista, con la misma estructura de la original, pero sin datos repetidos.\n",
        "\n",
        "Para esto tener en cuenta que:\n",
        "- Los conjuntos solo pueden almacenar datos inmutables.\n",
        "- Los diccionarios son estructuras mutables.\n",
        "- dict.items() devuelve una lista de tuplas.\n",
        "- dict(tupla) genera un diccionario, donde el primer elemento de la tupla es la clave, y el segundo el valor. Ej:\n",
        "  -\n",
        "  ```python\n",
        "  dict([(\"Alberto\", 10), (\"José\", 7), (\"Dario\", 14), (\"Ana\", 8), (\"Maria\", 9), (\"Emilia\", 10)])\n",
        "\n",
        "  va a generar el siguiente diccionario:\n",
        "\n",
        "  ```python\n",
        "  {'Alberto': 10, 'José': 7, 'Dario': 14, 'Ana': 8, 'Maria': 9, 'Emilia': 10}\n",
        "  ```\n",
        "\n"
      ],
      "metadata": {
        "id": "wRLng-uURyJ3"
      }
    },
    {
      "cell_type": "code",
      "source": [
        "lista_tuplas = []\n",
        "for estudiante in estudiantes:\n",
        "    es = tuple(estudiante.items())\n",
        "    lista_tuplas.append(es)\n",
        "\n",
        "for estudiante in lista_tuplas:\n",
        "    print(estudiante)"
      ],
      "metadata": {
        "id": "3vBMjJYCqyNn",
        "outputId": "452c12cf-6f42-46c4-8cd5-45266f26ae67",
        "colab": {
          "base_uri": "https://localhost:8080/"
        }
      },
      "execution_count": 36,
      "outputs": [
        {
          "output_type": "stream",
          "name": "stdout",
          "text": [
            "(('name', 'Abud Laspiur, Lourdes Mariel'), ('section', 'C'), ('dob', '05/12/2006'))\n",
            "(('name', 'Amador, Luana Micaela'), ('section', 'C'), ('dob', '09/12/2006'))\n",
            "(('name', 'Anaquin, Leonardo Ezequiel'), ('section', 'C'), ('dob', '06/09/2005'))\n",
            "(('name', 'Araoz Sanchez, Lautaro Nahuel'), ('section', 'C'), ('dob', '28/12/2005'))\n",
            "(('name', 'Argañaraz, Agostina Abril'), ('section', 'C'), ('dob', '11/10/2006'))\n",
            "(('name', 'Barrera, Matias Ezequiel'), ('section', 'C'), ('dob', '27/02/2007'))\n",
            "(('name', 'Barrera, Matias Ezequiel'), ('section', 'C'), ('dob', '27/02/2007'))\n",
            "(('name', 'Barrozo Vedia, Joaquin Nicolas'), ('section', 'C'), ('dob', '15/04/2006'))\n",
            "(('name', 'Bettinelli, Valentino'), ('section', 'C'), ('dob', '12/07/2006'))\n",
            "(('name', 'Bracamonte Martinez, Salvador'), ('section', 'C'), ('dob', '02/11/2005'))\n",
            "(('name', 'Colque Rivero, Ariana Zoe Del Valle'), ('section', 'C'), ('dob', '27/12/2006'))\n",
            "(('name', 'Diaz, Dulce Maitena'), ('section', 'C'), ('dob', '11/12/2006'))\n",
            "(('name', 'Figueroa, Santino Josue'), ('section', 'C'), ('dob', '12/05/2007'))\n",
            "(('name', 'Figueroa, Santino Josue'), ('section', 'C'), ('dob', '12/05/2007'))\n",
            "(('name', 'Flores Cardozo, Agustina Tiara'), ('section', 'C'), ('dob', '18/03/2006'))\n",
            "(('name', 'Gallo, Octavio Ismael'), ('section', 'C'), ('dob', '04/08/2006'))\n",
            "(('name', 'Galvan, Lourdes Yamila'), ('section', 'C'), ('dob', '19/08/2005'))\n",
            "(('name', 'Giangreco, Vitto Tomasso'), ('section', 'C'), ('dob', '21/03/2007'))\n",
            "(('name', 'Grancara, Martina Luna'), ('section', 'C'), ('dob', '15/12/2006'))\n",
            "(('name', 'Guanca, Sara Elizabeth'), ('section', 'C'), ('dob', '17/01/2007'))\n",
            "(('name', 'Lopez, Victoria Constanza'), ('section', 'C'), ('dob', '12/11/2007'))\n",
            "(('name', 'Mamani Garrido, Rosario Agostina'), ('section', 'C'), ('dob', '24/10/2006'))\n",
            "(('name', 'Marinaro, Martin Ezequiel'), ('section', 'C'), ('dob', '03/11/2006'))\n",
            "(('name', 'Merluzzi Dagum, Ignacio'), ('section', 'C'), ('dob', '22/12/2005'))\n",
            "(('name', 'Messina, Martina'), ('section', 'C'), ('dob', '13/07/2005'))\n",
            "(('name', 'Rasuk, Karim'), ('section', 'C'), ('dob', '13/07/2007'))\n",
            "(('name', 'Rasuk, Karim'), ('section', 'C'), ('dob', '13/07/2007'))\n",
            "(('name', 'Rios, Lucia Magali'), ('section', 'C'), ('dob', '22/09/2006'))\n",
            "(('name', 'Sanchez Flores, Matías Agustín'), ('section', 'C'), ('dob', '15/02/2007'))\n",
            "(('name', 'Scarano, Renato Marcelo'), ('section', 'C'), ('dob', '06/12/2006'))\n",
            "(('name', 'Sierra, Lucas Mauricio'), ('section', 'C'), ('dob', '03/04/2005'))\n",
            "(('name', 'Tapia, Martin Gabriel'), ('section', 'C'), ('dob', '30/05/2006'))\n",
            "(('name', 'Vilte, Mia Antonella Alondra'), ('section', 'C'), ('dob', '10/09/2005'))\n",
            "(('name', 'Virgillito, Katya Milena'), ('section', 'C'), ('dob', '19/06/2007'))\n",
            "(('name', 'Alurralde, Solange Stefania'), ('section', 'D'), ('dob', '02/04/2007'))\n",
            "(('name', 'Alvarado, Ludmila Del Milagro'), ('section', 'D'), ('dob', '06/09/2006'))\n",
            "(('name', 'Angel, Camila Juliana'), ('section', 'D'), ('dob', '07/03/2007'))\n",
            "(('name', 'Arenas, Lucas Gabriel'), ('section', 'D'), ('dob', '26/06/2007'))\n",
            "(('name', 'Caseres, Maria Antonia'), ('section', 'D'), ('dob', '01/07/2006'))\n",
            "(('name', 'Castillo, Paulina Milagros'), ('section', 'D'), ('dob', '01/06/2007'))\n",
            "(('name', 'Correa Segovia, Hugo Mariano'), ('section', 'D'), ('dob', '04/12/2006'))\n",
            "(('name', 'Correa Segovia, Hugo Mariano'), ('section', 'D'), ('dob', '04/12/2006'))\n",
            "(('name', 'D Elia, Alvaro Tadeo'), ('section', 'D'), ('dob', '27/08/2006'))\n",
            "(('name', 'Flores, Victoria Agustina'), ('section', 'D'), ('dob', '12/12/2006'))\n",
            "(('name', 'Geronimo Soriano, Lizzie Amaya'), ('section', 'D'), ('dob', '20/01/2007'))\n",
            "(('name', 'Guzman, Angélica Morena'), ('section', 'D'), ('dob', '11/04/2007'))\n",
            "(('name', 'Guzman, Jazmin Esmeralda Belen'), ('section', 'D'), ('dob', '31/07/2006'))\n",
            "(('name', 'Jaime, Anita Maria Belen'), ('section', 'D'), ('dob', '19/04/2007'))\n",
            "(('name', 'Lacour Polo, Nazarena'), ('section', 'D'), ('dob', '19/12/2005'))\n",
            "(('name', 'Lascano Guanca, Marcelo Fabricio'), ('section', 'D'), ('dob', '17/02/2006'))\n",
            "(('name', 'Lezcano, Celia Morena'), ('section', 'D'), ('dob', '01/07/2005'))\n",
            "(('name', 'Martinez, Tomas Andres'), ('section', 'D'), ('dob', '22/03/2007'))\n",
            "(('name', 'Portella Valdivia, Pedro Francisco'), ('section', 'D'), ('dob', '24/01/2007'))\n",
            "(('name', 'Retamal Cisneros, Zacarias Josue'), ('section', 'D'), ('dob', '24/02/2007'))\n",
            "(('name', 'Rosales, Francisco Gabriel'), ('section', 'D'), ('dob', '14/11/2006'))\n",
            "(('name', 'Salem Barba, Mahia'), ('section', 'D'), ('dob', '14/10/2005'))\n",
            "(('name', 'Soto Camara, Agustin Ignacio'), ('section', 'D'), ('dob', '07/11/2005'))\n",
            "(('name', 'Villalba, Irina'), ('section', 'D'), ('dob', '09/09/2006'))\n",
            "(('name', 'Voltolini, Emanuel Tobias'), ('section', 'D'), ('dob', '17/09/2006'))\n",
            "(('name', 'Zalazar, Santino Stefano'), ('section', 'D'), ('dob', '30/09/2006'))\n",
            "(('name', 'Zalazar, Santino Stefano'), ('section', 'D'), ('dob', '30/09/2006'))\n"
          ]
        }
      ]
    },
    {
      "cell_type": "markdown",
      "source": [
        "2. Crea un conjunto de nombres y otro de apellidos para 5C y  para 5D.\n",
        "- Muestra los conjuntos generados\n",
        "\n",
        "> recordá que los conjuntos solo pueden almacenar datos inmutables"
      ],
      "metadata": {
        "id": "dYEGkYZyLy9I"
      }
    },
    {
      "cell_type": "code",
      "source": [
        "nombres_5c = set()\n",
        "apellidos_5c = set()\n",
        "nombres_5d = set()\n",
        "apellidos_5d = set()\n",
        "for estudiante in estudiantes:\n",
        "    nombre_completo = estudiante[\"name\"]\n",
        "    apellidos, nombre = nombre_completo.split(\",\")\n",
        "    apellidos = apellidos.split(\" \")\n",
        "    nombres = nombre.split()\n",
        "    if estudiante[\"section\"] == \"C\":\n",
        "        for nombre in nombres:\n",
        "            nombres_5c.add(nombre)\n",
        "        for apellido in apellidos:\n",
        "            apellidos_5c.add(apellido)\n",
        "    else:\n",
        "        for nombre in nombres:\n",
        "            nombres_5d.add(nombre)\n",
        "        for apellido in apellidos:\n",
        "            apellidos_5d.add(apellido)\n",
        "\n",
        "print(f\"Nombres 5C: {nombres_5c}\")\n",
        "print(f\"Apellidos 5C: {apellidos_5c}\")\n",
        "print(f\"Nombres 5D: {nombres_5d}\")\n",
        "print(f\"Apellidos 5D: {apellidos_5d}\")"
      ],
      "metadata": {
        "id": "5hVrzFPgxs_E",
        "outputId": "992022fb-044b-4364-f453-cfa2f7252c4e",
        "colab": {
          "base_uri": "https://localhost:8080/"
        }
      },
      "execution_count": 37,
      "outputs": [
        {
          "output_type": "stream",
          "name": "stdout",
          "text": [
            "Nombres 5C: {'Alondra', 'Martina', 'Tiara', 'Octavio', 'Luna', 'Matías', 'Agustín', 'Leonardo', 'Rosario', 'Zoe', 'Lucia', 'Marcelo', 'Dulce', 'Agustina', 'Valentino', 'Maitena', 'Vitto', 'Gabriel', 'Agostina', 'Martin', 'Milena', 'Abril', 'Elizabeth', 'Joaquin', 'Antonella', 'Nicolas', 'Katya', 'Mauricio', 'Tomasso', 'Victoria', 'Micaela', 'Lucas', 'Constanza', 'Yamila', 'Karim', 'Lautaro', 'Ariana', 'Valle', 'Ezequiel', 'Luana', 'Magali', 'Renato', 'Mariel', 'Ignacio', 'Santino', 'Mia', 'Del', 'Ismael', 'Matias', 'Salvador', 'Josue', 'Sara', 'Lourdes', 'Nahuel'}\n",
            "Apellidos 5C: {'Vilte', 'Barrera', 'Araoz', 'Mamani', 'Scarano', 'Gallo', 'Rivero', 'Galvan', 'Grancara', 'Marinaro', 'Merluzzi', 'Tapia', 'Bettinelli', 'Garrido', 'Messina', 'Laspiur', 'Sanchez', 'Lopez', 'Sierra', 'Barrozo', 'Diaz', 'Virgillito', 'Rasuk', 'Amador', 'Martinez', 'Anaquin', 'Guanca', 'Bracamonte', 'Giangreco', 'Rios', 'Flores', 'Cardozo', 'Colque', 'Argañaraz', 'Dagum', 'Vedia', 'Abud', 'Figueroa'}\n",
            "Nombres 5D: {'Tadeo', 'Paulina', 'Angélica', 'Milagros', 'Juliana', 'Hugo', 'Alvaro', 'Pedro', 'Marcelo', 'Tomas', 'Agustina', 'Celia', 'Gabriel', 'Irina', 'Andres', 'Francisco', 'Stefania', 'Milagro', 'Fabricio', 'Morena', 'Camila', 'Tobias', 'Nazarena', 'Victoria', 'Ludmila', 'Lucas', 'Zacarias', 'Mahia', 'Agustin', 'Jazmin', 'Maria', 'Lizzie', 'Esmeralda', 'Belen', 'Stefano', 'Anita', 'Emanuel', 'Amaya', 'Antonia', 'Ignacio', 'Mariano', 'Santino', 'Del', 'Solange', 'Josue'}\n",
            "Apellidos 5D: {'Polo', 'Rosales', 'Barba', 'Arenas', 'Guzman', 'Lezcano', 'Camara', 'Portella', 'Alvarado', 'Caseres', 'Valdivia', 'D', 'Geronimo', 'Soriano', 'Elia', 'Segovia', 'Castillo', 'Cisneros', 'Villalba', 'Voltolini', 'Zalazar', 'Soto', 'Lascano', 'Martinez', 'Guanca', 'Retamal', 'Lacour', 'Angel', 'Flores', 'Correa', 'Alurralde', 'Salem', 'Jaime'}\n"
          ]
        }
      ]
    },
    {
      "cell_type": "markdown",
      "source": [
        "3. Muestra cuantos nombres únicos hay en cada curso."
      ],
      "metadata": {
        "id": "UW2dlBsGMAte"
      }
    },
    {
      "cell_type": "code",
      "source": [
        "nombres_unicos_5c = nombres_5c.union(nombres_5c)\n",
        "print(\"Cantidad de nombres únicos en 5C:\")\n",
        "print(f\"cantidad: {len(nombres_unicos_5c)}, {nombres_unicos_5c}\")\n",
        "\n",
        "nombres_unicos_5d = nombres_5d.union(nombres_5d)\n",
        "print(\"Cantidad de nombres únicos en 5D:\")\n",
        "print(f\"cantidad: {len(nombres_unicos_5d)}, {nombres_unicos_5d}\")"
      ],
      "metadata": {
        "id": "EawAy4SANtkl",
        "outputId": "5105eee1-acf4-49f7-a1c0-c5904fa72476",
        "colab": {
          "base_uri": "https://localhost:8080/"
        }
      },
      "execution_count": 38,
      "outputs": [
        {
          "output_type": "stream",
          "name": "stdout",
          "text": [
            "Cantidad de nombres únicos en 5C:\n",
            "cantidad: 54, {'Alondra', 'Martina', 'Tiara', 'Octavio', 'Luna', 'Matías', 'Agustín', 'Leonardo', 'Rosario', 'Zoe', 'Lucia', 'Marcelo', 'Dulce', 'Agustina', 'Valentino', 'Maitena', 'Vitto', 'Gabriel', 'Agostina', 'Martin', 'Milena', 'Abril', 'Elizabeth', 'Joaquin', 'Antonella', 'Nicolas', 'Katya', 'Mauricio', 'Tomasso', 'Victoria', 'Micaela', 'Lucas', 'Constanza', 'Yamila', 'Karim', 'Lautaro', 'Ariana', 'Valle', 'Ezequiel', 'Luana', 'Magali', 'Renato', 'Mariel', 'Ignacio', 'Santino', 'Mia', 'Del', 'Ismael', 'Matias', 'Salvador', 'Josue', 'Sara', 'Lourdes', 'Nahuel'}\n",
            "Cantidad de nombres únicos en 5D:\n",
            "cantidad: 45, {'Tadeo', 'Paulina', 'Angélica', 'Milagros', 'Juliana', 'Hugo', 'Alvaro', 'Pedro', 'Marcelo', 'Tomas', 'Agustina', 'Celia', 'Gabriel', 'Irina', 'Andres', 'Francisco', 'Stefania', 'Milagro', 'Fabricio', 'Morena', 'Camila', 'Tobias', 'Nazarena', 'Victoria', 'Ludmila', 'Lucas', 'Zacarias', 'Mahia', 'Agustin', 'Jazmin', 'Maria', 'Lizzie', 'Esmeralda', 'Belen', 'Stefano', 'Anita', 'Emanuel', 'Amaya', 'Antonia', 'Ignacio', 'Mariano', 'Santino', 'Del', 'Solange', 'Josue'}\n"
          ]
        }
      ]
    },
    {
      "cell_type": "markdown",
      "source": [
        "4. Muestra cuantos apellidos únicos hay en cada curso."
      ],
      "metadata": {
        "id": "kZeEHUYVNwGV"
      }
    },
    {
      "cell_type": "code",
      "source": [
        "a_unicos_5c = apellidos_5c.union(apellidos_5c)\n",
        "print(\"Cantidad de apellidos únicos en 5C:\")\n",
        "print(f\"cantidad: {len(a_unicos_5c)}, {a_unicos_5c}\")\n",
        "\n",
        "a_unicos_5d = apellidos_5d.union(apellidos_5d)\n",
        "print(\"Cantidad de apellidos únicos en 5D:\")\n",
        "print(f\"cantidad: {len(a_unicos_5d)}, {a_unicos_5d}\")"
      ],
      "metadata": {
        "id": "xlx_Zv8Jrseh",
        "outputId": "5f8d79d2-abeb-4798-87c5-724d5e125e22",
        "colab": {
          "base_uri": "https://localhost:8080/"
        }
      },
      "execution_count": 39,
      "outputs": [
        {
          "output_type": "stream",
          "name": "stdout",
          "text": [
            "Cantidad de apellidos únicos en 5C:\n",
            "cantidad: 38, {'Vilte', 'Barrera', 'Araoz', 'Mamani', 'Scarano', 'Gallo', 'Rivero', 'Galvan', 'Grancara', 'Marinaro', 'Merluzzi', 'Tapia', 'Bettinelli', 'Garrido', 'Messina', 'Laspiur', 'Sanchez', 'Lopez', 'Sierra', 'Barrozo', 'Diaz', 'Virgillito', 'Rasuk', 'Amador', 'Martinez', 'Anaquin', 'Guanca', 'Bracamonte', 'Giangreco', 'Rios', 'Flores', 'Cardozo', 'Colque', 'Argañaraz', 'Dagum', 'Vedia', 'Abud', 'Figueroa'}\n",
            "Cantidad de apellidos únicos en 5D:\n",
            "cantidad: 33, {'Polo', 'Rosales', 'Barba', 'Arenas', 'Guzman', 'Lezcano', 'Camara', 'Portella', 'Alvarado', 'Caseres', 'Valdivia', 'D', 'Geronimo', 'Soriano', 'Elia', 'Segovia', 'Castillo', 'Cisneros', 'Villalba', 'Voltolini', 'Zalazar', 'Soto', 'Lascano', 'Martinez', 'Guanca', 'Retamal', 'Lacour', 'Angel', 'Flores', 'Correa', 'Alurralde', 'Salem', 'Jaime'}\n"
          ]
        }
      ]
    },
    {
      "cell_type": "markdown",
      "source": [
        "5. Mostrá los nombres que se aparecen em ambos cursos"
      ],
      "metadata": {
        "id": "ywYmA2JQNp3T"
      }
    },
    {
      "cell_type": "code",
      "source": [
        "nombres_en_ambos_cursos = nombres_5c.intersection(nombres_5d)\n",
        "print(f\"Los nombres que aparecen en ambos cursos son: {nombres_en_ambos_cursos}\")"
      ],
      "metadata": {
        "id": "Cnp334ZrOCjK",
        "outputId": "6335bd42-31aa-44b4-cdb9-23dddd8e80da",
        "colab": {
          "base_uri": "https://localhost:8080/"
        }
      },
      "execution_count": 40,
      "outputs": [
        {
          "output_type": "stream",
          "name": "stdout",
          "text": [
            "Los nombres que aparecen en ambos cursos son: {'Agustina', 'Victoria', 'Lucas', 'Gabriel', 'Ignacio', 'Santino', 'Del', 'Josue', 'Marcelo'}\n"
          ]
        }
      ]
    },
    {
      "cell_type": "markdown",
      "source": [
        "6. Mostrá los apellidos que se aparecen en ambos cursos"
      ],
      "metadata": {
        "id": "iAXts6saODoU"
      }
    },
    {
      "cell_type": "code",
      "source": [
        "apellidos_en_ambos_cursos = apellidos_5c.intersection(apellidos_5d)\n",
        "print(f\"Los apellidos que aparecen en ambos cursos son: {apellidos_en_ambos_cursos}\")"
      ],
      "metadata": {
        "id": "FMRsUlvtOJS_",
        "outputId": "d3ddb2e4-3abf-454a-b29d-f6ba3f979a1e",
        "colab": {
          "base_uri": "https://localhost:8080/"
        }
      },
      "execution_count": 41,
      "outputs": [
        {
          "output_type": "stream",
          "name": "stdout",
          "text": [
            "Los apellidos que aparecen en ambos cursos son: {'Flores', 'Martinez', 'Guanca'}\n"
          ]
        }
      ]
    },
    {
      "cell_type": "markdown",
      "source": [
        "7. Mostrá los nombres de los estudiantes de 5C que no existen en 5D y viceversa."
      ],
      "metadata": {
        "id": "T4PFiwwdOK27"
      }
    },
    {
      "cell_type": "code",
      "source": [
        "nombres_solo_5c = nombres_5c.difference(nombres_5d)\n",
        "print(f\"Nombres de estudiantes de 5C que no existen en 5D: {nombres_solo_5c}\")\n",
        "\n",
        "nombres_solo_5d = nombres_5d.difference(nombres_5c)\n",
        "print(f\"Nombres de estudiantes de 5D que no existen en 5C: {nombres_solo_5d}\")"
      ],
      "metadata": {
        "id": "vjQ2X9x3OmFr",
        "outputId": "f932b7c8-6928-4762-b749-4ec6724191c6",
        "colab": {
          "base_uri": "https://localhost:8080/"
        }
      },
      "execution_count": 42,
      "outputs": [
        {
          "output_type": "stream",
          "name": "stdout",
          "text": [
            "Nombres de estudiantes de 5C que no existen en 5D: {'Alondra', 'Martina', 'Tiara', 'Octavio', 'Luna', 'Matías', 'Agustín', 'Leonardo', 'Rosario', 'Zoe', 'Lucia', 'Dulce', 'Vitto', 'Valentino', 'Maitena', 'Agostina', 'Martin', 'Milena', 'Abril', 'Elizabeth', 'Joaquin', 'Antonella', 'Nicolas', 'Katya', 'Mauricio', 'Tomasso', 'Micaela', 'Yamila', 'Karim', 'Lautaro', 'Ariana', 'Valle', 'Ezequiel', 'Luana', 'Magali', 'Renato', 'Mariel', 'Mia', 'Ismael', 'Matias', 'Salvador', 'Sara', 'Constanza', 'Lourdes', 'Nahuel'}\n",
            "Nombres de estudiantes de 5D que no existen en 5C: {'Tadeo', 'Paulina', 'Angélica', 'Milagros', 'Juliana', 'Hugo', 'Alvaro', 'Pedro', 'Tomas', 'Celia', 'Irina', 'Andres', 'Francisco', 'Stefania', 'Milagro', 'Fabricio', 'Morena', 'Camila', 'Tobias', 'Nazarena', 'Mahia', 'Ludmila', 'Zacarias', 'Agustin', 'Stefano', 'Jazmin', 'Maria', 'Lizzie', 'Esmeralda', 'Belen', 'Anita', 'Emanuel', 'Amaya', 'Antonia', 'Mariano', 'Solange'}\n"
          ]
        }
      ]
    },
    {
      "cell_type": "markdown",
      "source": [
        "8. Mostrá los apellidos de los estudiantes de 5C que no existen en 5D y viceversa.\n"
      ],
      "metadata": {
        "id": "xfy8SFlZRVGf"
      }
    },
    {
      "cell_type": "code",
      "source": [
        "\n",
        "apellidos_solo_5c = apellidos_5c.difference(apellidos_5d)\n",
        "print(f\"Apellidos de estudiantes de 5C que no existen en 5D: {apellidos_solo_5c}\")\n",
        "\n",
        "apellidos_solo_5d = apellidos_5d.difference(apellidos_5c)\n",
        "print(f\"Apellidos de estudiantes de 5D que no existen en 5C: {apellidos_solo_5d}\")"
      ],
      "metadata": {
        "id": "E4Onk1FNRUa2",
        "outputId": "4bac5b54-bb2e-4853-f6d8-93405e8472ec",
        "colab": {
          "base_uri": "https://localhost:8080/"
        }
      },
      "execution_count": 43,
      "outputs": [
        {
          "output_type": "stream",
          "name": "stdout",
          "text": [
            "Apellidos de estudiantes de 5C que no existen en 5D: {'Vilte', 'Barrera', 'Araoz', 'Mamani', 'Scarano', 'Gallo', 'Rivero', 'Galvan', 'Grancara', 'Marinaro', 'Merluzzi', 'Tapia', 'Bettinelli', 'Garrido', 'Messina', 'Laspiur', 'Lopez', 'Sanchez', 'Sierra', 'Barrozo', 'Diaz', 'Virgillito', 'Rasuk', 'Amador', 'Anaquin', 'Bracamonte', 'Giangreco', 'Rios', 'Cardozo', 'Colque', 'Argañaraz', 'Dagum', 'Vedia', 'Abud', 'Figueroa'}\n",
            "Apellidos de estudiantes de 5D que no existen en 5C: {'Rosales', 'Polo', 'Barba', 'Arenas', 'Guzman', 'Lezcano', 'Camara', 'Portella', 'Alvarado', 'Caseres', 'Valdivia', 'D', 'Geronimo', 'Soriano', 'Elia', 'Segovia', 'Castillo', 'Cisneros', 'Villalba', 'Voltolini', 'Zalazar', 'Soto', 'Lascano', 'Retamal', 'Lacour', 'Angel', 'Correa', 'Alurralde', 'Salem', 'Jaime'}\n"
          ]
        }
      ]
    },
    {
      "cell_type": "markdown",
      "source": [
        "9. Mostrá todos los nombres, menos aquellos que existen en ambos cursos.\n"
      ],
      "metadata": {
        "id": "lW18NgPjRcGP"
      }
    },
    {
      "cell_type": "code",
      "source": [
        "nombres_en_ambos = nombres_5c.intersection(nombres_5d)\n",
        "todos_los_nombres = nombres_5c.union(nombres_5d)\n",
        "nombres_no_en_ambos = todos_los_nombres.difference(nombres_en_ambos)\n",
        "print(f\"Todos los nombres, menos los que existen en ambos cursos: {nombres_no_en_ambos}\")"
      ],
      "metadata": {
        "id": "jTtWBnalRcoC",
        "outputId": "fb92b0c7-34e7-457c-bc2c-d7ce703b26ca",
        "colab": {
          "base_uri": "https://localhost:8080/"
        }
      },
      "execution_count": 44,
      "outputs": [
        {
          "output_type": "stream",
          "name": "stdout",
          "text": [
            "Todos los nombres, menos los que existen en ambos cursos: {'Milagros', 'Martina', 'Juliana', 'Tiara', 'Luna', 'Alvaro', 'Matías', 'Agustín', 'Leonardo', 'Lucia', 'Dulce', 'Valentino', 'Vitto', 'Agostina', 'Martin', 'Francisco', 'Stefania', 'Elizabeth', 'Joaquin', 'Antonella', 'Nazarena', 'Nicolas', 'Micaela', 'Ludmila', 'Zacarias', 'Mahia', 'Stefano', 'Jazmin', 'Belen', 'Ariana', 'Luana', 'Amaya', 'Antonia', 'Mariano', 'Mia', 'Ismael', 'Solange', 'Salvador', 'Alondra', 'Tadeo', 'Paulina', 'Angélica', 'Hugo', 'Octavio', 'Rosario', 'Zoe', 'Pedro', 'Tomas', 'Maitena', 'Celia', 'Irina', 'Milena', 'Andres', 'Milagro', 'Abril', 'Fabricio', 'Morena', 'Camila', 'Tobias', 'Katya', 'Mauricio', 'Tomasso', 'Agustin', 'Maria', 'Lizzie', 'Esmeralda', 'Yamila', 'Anita', 'Karim', 'Lautaro', 'Emanuel', 'Valle', 'Ezequiel', 'Magali', 'Renato', 'Mariel', 'Matias', 'Sara', 'Constanza', 'Lourdes', 'Nahuel'}\n"
          ]
        }
      ]
    },
    {
      "cell_type": "markdown",
      "source": [
        "10. elimina tu nombre del conjunto al que pertenece"
      ],
      "metadata": {
        "id": "E24lH7x5Xbur"
      }
    },
    {
      "cell_type": "code",
      "source": [
        "mi_nombre = 'Alvarado,Ludmila Del Milagro'\n",
        "if mi_nombre in nombres_5c:\n",
        "    nombres_5c.remove(mi_nombre)\n",
        "print(f\"Nombres de estudiantes de 5C: {nombres_5c}\")"
      ],
      "metadata": {
        "id": "9SeI3GBGXims",
        "outputId": "349ae74e-439e-4ea2-d24e-489900a96ae4",
        "colab": {
          "base_uri": "https://localhost:8080/"
        }
      },
      "execution_count": 45,
      "outputs": [
        {
          "output_type": "stream",
          "name": "stdout",
          "text": [
            "Nombres de estudiantes de 5C: {'Alondra', 'Martina', 'Tiara', 'Octavio', 'Luna', 'Matías', 'Agustín', 'Leonardo', 'Rosario', 'Zoe', 'Lucia', 'Marcelo', 'Dulce', 'Agustina', 'Valentino', 'Maitena', 'Vitto', 'Gabriel', 'Agostina', 'Martin', 'Milena', 'Abril', 'Elizabeth', 'Joaquin', 'Antonella', 'Nicolas', 'Katya', 'Mauricio', 'Tomasso', 'Victoria', 'Micaela', 'Lucas', 'Constanza', 'Yamila', 'Karim', 'Lautaro', 'Ariana', 'Valle', 'Ezequiel', 'Luana', 'Magali', 'Renato', 'Mariel', 'Ignacio', 'Santino', 'Mia', 'Del', 'Ismael', 'Matias', 'Salvador', 'Josue', 'Sara', 'Lourdes', 'Nahuel'}\n"
          ]
        }
      ]
    },
    {
      "cell_type": "markdown",
      "source": [
        "11. Solicita al usuario un nombre y un apellido y agregalos a los correspondientes conjuntos de tu curso.\n",
        "\n",
        "\n",
        "\n"
      ],
      "metadata": {
        "id": "vOY6K_ydRc3Q"
      }
    },
    {
      "cell_type": "code",
      "source": [
        "n_usuario = input(\"Ingrese su nombre: \")\n",
        "a_usuario = input(\"Ingrese su apellido: \")\n",
        "nombres_5d.add(n_usuario)\n",
        "apellidos_5d.add(a_usuario)\n",
        "print(f\"Nombres de estudiantes de 5D: {nombres_5d}\")\n",
        "print(f\"Apellidos de estudiantes de 5D: {apellidos_5d}\")"
      ],
      "metadata": {
        "id": "9JDrd3WqRdTi",
        "outputId": "5d7933c6-1b33-45b6-b538-2b0022ece90f",
        "colab": {
          "base_uri": "https://localhost:8080/"
        }
      },
      "execution_count": 48,
      "outputs": [
        {
          "output_type": "stream",
          "name": "stdout",
          "text": [
            "Ingrese su nombre: Gael\n",
            "Ingrese su apellido: Arias\n",
            "Nombres de estudiantes de 5D: {'Tadeo', 'Paulina', 'Angélica', 'Milagros', 'Juliana', 'Hugo', 'Alvaro', 'Pedro', 'Marcelo', 'Tomas', 'Agustina', 'Celia', 'Gabriel', 'Irina', 'Andres', 'Francisco', 'Stefania', 'Milagro', 'Fabricio', 'Morena', 'Camila', 'Tobias', 'Nazarena', 'Victoria', 'Ludmila', 'Lucas', 'Zacarias', 'Mahia', 'Agustin', 'Jazmin', 'Maria', 'Lizzie', 'Esmeralda', 'Belen', 'Stefano', 'Gael', 'Anita', 'Emanuel', 'Amaya', 'Antonia', 'Ignacio', 'Mariano', 'Santino', 'Del', 'Solange', 'Josue'}\n",
            "Apellidos de estudiantes de 5D: {'Polo', 'Rosales', 'Barba', 'Arenas', 'Guzman', 'Lezcano', 'Camara', 'Portella', 'Alvarado', 'Caseres', 'Valdivia', 'D', 'Geronimo', 'Soriano', 'Elia', 'Arias', 'Segovia', 'Castillo', 'Cisneros', 'Villalba', 'Voltolini', 'Zalazar', 'Soto', 'Lascano', 'Martinez', 'Guanca', 'Retamal', 'Lacour', 'lucas', 'Angel', 'Flores', 'Correa', 'Alurralde', 'Salem', 'Jaime'}\n"
          ]
        }
      ]
    },
    {
      "cell_type": "markdown",
      "source": [
        "12. Solicita un nombre y verifica si este existe en el diccionario"
      ],
      "metadata": {
        "id": "hs1vGDrX2wHq"
      }
    },
    {
      "cell_type": "code",
      "source": [
        "nombre = input(\"Ingrese un nombre: \").title()\n",
        "if nombre in nombres_5d:\n",
        "    print(f\"El nombre {nombre} existe en el diccionario.\")\n",
        "else:\n",
        "    print(f\"El nombre {nombre} no existe en el diccionario.\")"
      ],
      "metadata": {
        "id": "4bbRCYWt2vDO",
        "outputId": "619f5889-97fe-4d85-e96d-1c2978adf425",
        "colab": {
          "base_uri": "https://localhost:8080/"
        }
      },
      "execution_count": 49,
      "outputs": [
        {
          "output_type": "stream",
          "name": "stdout",
          "text": [
            "Ingrese un nombre: Ludmila\n",
            "El nombre Ludmila existe en el diccionario.\n"
          ]
        }
      ]
    }
  ]
}