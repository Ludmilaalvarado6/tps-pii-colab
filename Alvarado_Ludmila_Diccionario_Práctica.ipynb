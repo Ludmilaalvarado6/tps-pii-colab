{
  "nbformat": 4,
  "nbformat_minor": 0,
  "metadata": {
    "colab": {
      "provenance": [],
      "include_colab_link": true
    },
    "kernelspec": {
      "name": "python3",
      "display_name": "Python 3"
    },
    "language_info": {
      "name": "python"
    }
  },
  "cells": [
    {
      "cell_type": "markdown",
      "metadata": {
        "id": "view-in-github",
        "colab_type": "text"
      },
      "source": [
        "<a href=\"https://colab.research.google.com/github/Ludmilaalvarado6/tps-pii-colab/blob/main/Alvarado_Ludmila_Diccionario_Pr%C3%A1ctica.ipynb\" target=\"_parent\"><img src=\"https://colab.research.google.com/assets/colab-badge.svg\" alt=\"Open In Colab\"/></a>"
      ]
    },
    {
      "cell_type": "code",
      "execution_count": 23,
      "metadata": {
        "id": "8VOD-zpMJovw"
      },
      "outputs": [],
      "source": [
        "# Listas de alumnos\n",
        "estudiantes_5d = [\n",
        "   (\"Alurralde, Solange Stefania\",\"D\",\"02/04/2007\"),\n",
        "   (\"Alvarado, Ludmila Del Milagro\",\"D\",\"06/09/2006\"),\n",
        "   (\"Angel, Camila Juliana\",\"D\",\"07/03/2007\"),\n",
        "   (\"Arenas, Lucas Gabriel\",\"D\",\"26/06/2007\"),\n",
        "   (\"Caseres, Maria Antonia\",\"D\",\"01/07/2006\"),\n",
        "   (\"Castillo, Paulina Milagros\",\"D\",\"01/06/2007\"),\n",
        "   (\"Correa Segovia, Hugo Mariano\",\"D\",\"04/12/2006\"),\n",
        "   (\"D Elia, Alvaro Tadeo\",\"D\",\"27/08/2006\"),\n",
        "   (\"Flores, Victoria Agustina\",\"D\",\"12/12/2006\"),\n",
        "   (\"Geronimo Soriano, Lizzie Amaya\",\"D\",\"20/01/2007\"),\n",
        "   (\"GUZMAN, ANGÉLICA MORENA\",\"D\",\"11/04/2007\"),\n",
        "   (\"Guzman, Jazmin Esmeralda Belen\",\"D\",\"31/07/2006\"),\n",
        "   (\"Jaime, Anita Maria Belen\",\"D\",\"19/04/2007\"),\n",
        "   (\"Lacour Polo, Nazarena\",\"D\",\"19/12/2005\"),\n",
        "   (\"Lascano Guanca, Marcelo Fabricio\",\"D\",\"17/02/2006\"),\n",
        "   (\"Lezcano, Celia Morena\",\"D\",\"01/07/2005\"),\n",
        "   (\"Martinez, Tomas Andres\",\"D\",\"22/03/2007\"),\n",
        "   (\"PORTELLA VALDIVIA, PEDRO FRANCISCO\",\"D\",\"24/01/2007\"),\n",
        "   (\"Retamal Cisneros, Zacarias Josue\",\"D\",\"24/02/2007\"),\n",
        "   (\"Rosales, Francisco Gabriel\",\"D\",\"14/11/2006\"),\n",
        "   (\"Salem Barba, Mahia\",\"D\",\"14/10/2005\"),\n",
        "   (\"Soto Camara, Agustin Ignacio\",\"D\",\"07/11/2005\"),\n",
        "   (\"Villalba, Irina\",\"D\",\"09/09/2006\"),\n",
        "   (\"Voltolini, Emanuel Tobias\",\"D\",\"17/09/2006\"),\n",
        "   (\"Zalazar, Santino Stefano\",\"D\",\"30/09/2006\")\n",
        "]\n",
        "\n",
        "estudiantes_5c=[\n",
        "    (\"ABUD LASPIUR, LOURDES MARIEL\",\"C\",\"05/12/2006\"),\n",
        "    (\"Amador, Luana Micaela\",\"C\",\"09/12/2006\"),\n",
        "    (\"Anaquin, Leonardo Ezequiel\",\"C\",\"06/09/2005\"),\n",
        "    (\"Araoz Sanchez, Lautaro Nahuel\",\"C\",\"28/12/2005\"),\n",
        "    (\"Argañaraz, Agostina Abril\",\"C\",\"11/10/2006\"),\n",
        "    (\"Barrera, Matias Ezequiel\",\"C\",\"27/02/2007\"),\n",
        "    (\"Barrozo Vedia, Joaquin Nicolas\",\"C\",\"15/04/2006\"),\n",
        "    (\"Bettinelli, Valentino\",\"C\",\"12/07/2006\"),\n",
        "    (\"Bracamonte Martinez, Salvador\",\"C\",\"02/11/2005\"),\n",
        "    (\"Colque Rivero, Ariana Zoe Del Valle\",\"C\",\"27/12/2006\"),\n",
        "    (\"Diaz, Dulce Maitena\",\"C\",\"11/12/2006\"),\n",
        "    (\"FIGUEROA, SANTINO JOSUE\",\"C\",\"12/05/2007\"),\n",
        "    (\"Flores Cardozo, Agustina Tiara\",\"C\",\"18/03/2006\"),\n",
        "    (\"Gallo, Octavio Ismael\",\"C\",\"04/08/2006\"),\n",
        "    (\"Galvan, Lourdes Yamila\",\"C\",\"19/08/2005\"),\n",
        "    (\"Giangreco, Vitto Tomasso\",\"C\",\"21/03/2007\"),\n",
        "    (\"Grancara, Martina Luna\",\"C\",\"15/12/2006\"),\n",
        "    (\"Guanca, Sara Elizabeth\",\"C\",\"17/01/2007\"),\n",
        "    (\"Lopez, Victoria Constanza\",\"C\",\"12/11/2007\"),\n",
        "    (\"Mamani Garrido, Rosario Agostina\",\"C\",\"24/10/2006\"),\n",
        "    (\"Marinaro, Martin Ezequiel\",\"C\",\"03/11/2006\"),\n",
        "    (\"Merluzzi Dagum, Ignacio\",\"C\",\"22/12/2005\"),\n",
        "    (\"Messina, Martina\",\"C\",\"13/07/2005\"),\n",
        "    (\"RASUK, KARIM\", \"C\",\"13/07/2007\"),\n",
        "    (\"Rios, Lucia Magali\",\"C\",\"22/09/2006\"),\n",
        "    (\"Sanchez Flores, Matías Agustín\",\"C\",\"15/02/2007\"),\n",
        "    (\"Scarano, Renato Marcelo\",\"C\",\"06/12/2006\"),\n",
        "    (\"Sierra, Lucas Mauricio\",\"C\",\"03/04/2005\"),\n",
        "    (\"Tapia, Martin Gabriel\",\"C\",\"30/05/2006\"),\n",
        "    (\"Vilte, Mia Antonella Alondra\",\"C\",\"10/09/2005\"),\n",
        "    (\"Virgillito, Katya Milena\",\"C\",\"19/06/2007\")\n",
        "]"
      ]
    },
    {
      "cell_type": "markdown",
      "source": [
        "## Dada la lista estudiantes:\n",
        "> - Hacer una celda para resolver cada punto.\n",
        "- El TP resuelto será revisado en tu repositorio, no es necesario que lo envíes, pero sí que lo pushees correctamente.\n",
        "- En la nota inicial se contempla:\n",
        "  - La incorporación de este documento a tu propio respositorio.\n",
        "  - El pusheo de los cambios realizados.\n",
        "  - La resolución de los ejercicios propuestos.\n"
      ],
      "metadata": {
        "id": "rd6Ug6v3J4uN"
      }
    },
    {
      "cell_type": "markdown",
      "source": [
        "1. Reemplaza todos los valores del nombre por los que obtengas del método title(). De esta manera las listas quedaran con los datos más homogéneos."
      ],
      "metadata": {
        "id": "wRLng-uURyJ3"
      }
    },
    {
      "cell_type": "code",
      "source": [
        "for i in range(len(estudiantes_5d)):\n",
        "    estudiantes_5d[i] = list(estudiantes_5d[i])\n",
        "    estudiantes_5d[i][0] = estudiantes_5d[i][0].title()\n",
        "\n",
        "for i in range(len(estudiantes_5c)):\n",
        "    estudiantes_5c[i] = list(estudiantes_5c[i])\n",
        "    estudiantes_5c[i][0] = estudiantes_5c[i][0].title()\n",
        "\n",
        "for i in estudiantes_5d:\n",
        "    print(i)\n",
        "\n",
        "for i in estudiantes_5c:\n",
        "    print(i)\n",
        "\n",
        ""
      ],
      "metadata": {
        "id": "5lFqJoTaSIWi",
        "outputId": "e79b670d-9c62-4085-ad6d-d44a27e68c8c",
        "colab": {
          "base_uri": "https://localhost:8080/"
        }
      },
      "execution_count": 3,
      "outputs": [
        {
          "output_type": "stream",
          "name": "stdout",
          "text": [
            "['Alurralde, Solange Stefania', 'D', '02/04/2007']\n",
            "['Alvarado, Ludmila Del Milagro', 'D', '06/09/2006']\n",
            "['Angel, Camila Juliana', 'D', '07/03/2007']\n",
            "['Arenas, Lucas Gabriel', 'D', '26/06/2007']\n",
            "['Caseres, Maria Antonia', 'D', '01/07/2006']\n",
            "['Castillo, Paulina Milagros', 'D', '01/06/2007']\n",
            "['Correa Segovia, Hugo Mariano', 'D', '04/12/2006']\n",
            "['D Elia, Alvaro Tadeo', 'D', '27/08/2006']\n",
            "['Flores, Victoria Agustina', 'D', '12/12/2006']\n",
            "['Geronimo Soriano, Lizzie Amaya', 'D', '20/01/2007']\n",
            "['Guzman, Angélica Morena', 'D', '11/04/2007']\n",
            "['Guzman, Jazmin Esmeralda Belen', 'D', '31/07/2006']\n",
            "['Jaime, Anita Maria Belen', 'D', '19/04/2007']\n",
            "['Lacour Polo, Nazarena', 'D', '19/12/2005']\n",
            "['Lascano Guanca, Marcelo Fabricio', 'D', '17/02/2006']\n",
            "['Lezcano, Celia Morena', 'D', '01/07/2005']\n",
            "['Martinez, Tomas Andres', 'D', '22/03/2007']\n",
            "['Portella Valdivia, Pedro Francisco', 'D', '24/01/2007']\n",
            "['Retamal Cisneros, Zacarias Josue', 'D', '24/02/2007']\n",
            "['Rosales, Francisco Gabriel', 'D', '14/11/2006']\n",
            "['Salem Barba, Mahia', 'D', '14/10/2005']\n",
            "['Soto Camara, Agustin Ignacio', 'D', '07/11/2005']\n",
            "['Villalba, Irina', 'D', '09/09/2006']\n",
            "['Voltolini, Emanuel Tobias', 'D', '17/09/2006']\n",
            "['Zalazar, Santino Stefano', 'D', '30/09/2006']\n",
            "['Abud Laspiur, Lourdes Mariel', 'C', '05/12/2006']\n",
            "['Amador, Luana Micaela', 'C', '09/12/2006']\n",
            "['Anaquin, Leonardo Ezequiel', 'C', '06/09/2005']\n",
            "['Araoz Sanchez, Lautaro Nahuel', 'C', '28/12/2005']\n",
            "['Argañaraz, Agostina Abril', 'C', '11/10/2006']\n",
            "['Barrera, Matias Ezequiel', 'C', '27/02/2007']\n",
            "['Barrozo Vedia, Joaquin Nicolas', 'C', '15/04/2006']\n",
            "['Bettinelli, Valentino', 'C', '12/07/2006']\n",
            "['Bracamonte Martinez, Salvador', 'C', '02/11/2005']\n",
            "['Colque Rivero, Ariana Zoe Del Valle', 'C', '27/12/2006']\n",
            "['Diaz, Dulce Maitena', 'C', '11/12/2006']\n",
            "['Figueroa, Santino Josue', 'C', '12/05/2007']\n",
            "['Flores Cardozo, Agustina Tiara', 'C', '18/03/2006']\n",
            "['Gallo, Octavio Ismael', 'C', '04/08/2006']\n",
            "['Galvan, Lourdes Yamila', 'C', '19/08/2005']\n",
            "['Giangreco, Vitto Tomasso', 'C', '21/03/2007']\n",
            "['Grancara, Martina Luna', 'C', '15/12/2006']\n",
            "['Guanca, Sara Elizabeth', 'C', '17/01/2007']\n",
            "['Lopez, Victoria Constanza', 'C', '12/11/2007']\n",
            "['Mamani Garrido, Rosario Agostina', 'C', '24/10/2006']\n",
            "['Marinaro, Martin Ezequiel', 'C', '03/11/2006']\n",
            "['Merluzzi Dagum, Ignacio', 'C', '22/12/2005']\n",
            "['Messina, Martina', 'C', '13/07/2005']\n",
            "['Rasuk, Karim', 'C', '13/07/2007']\n",
            "['Rios, Lucia Magali', 'C', '22/09/2006']\n",
            "['Sanchez Flores, Matías Agustín', 'C', '15/02/2007']\n",
            "['Scarano, Renato Marcelo', 'C', '06/12/2006']\n",
            "['Sierra, Lucas Mauricio', 'C', '03/04/2005']\n",
            "['Tapia, Martin Gabriel', 'C', '30/05/2006']\n",
            "['Vilte, Mia Antonella Alondra', 'C', '10/09/2005']\n",
            "['Virgillito, Katya Milena', 'C', '19/06/2007']\n"
          ]
        }
      ]
    },
    {
      "cell_type": "markdown",
      "source": [
        "2. Genera una lista de diccionarios con los datos de las listas, donde las claves de los mismos serán:\n",
        "- \"apellido\"\n",
        "- \"nombre\"\n",
        "- \"curso\"\n",
        "- \"division\"\n",
        "- \"feha_de_nacimiento\"\n",
        "\n",
        "Muestra la información generada."
      ],
      "metadata": {
        "id": "dYEGkYZyLy9I"
      }
    },
    {
      "cell_type": "code",
      "source": [
        "for i in range(len(estudiantes_5d)):\n",
        "    apellido, nombre = estudiantes_5d[i][0].split(',')\n",
        "    estudiantes_5d[i] = {\n",
        "         'apellido' : apellido.strip(),\n",
        "         'nombre' : nombre.strip(),\n",
        "         'curso' : '5D',\n",
        "         'divison': estudiantes_5d[i][1],\n",
        "         'fecha_de_nacimiento' : estudiantes_5d [i][2]\n",
        "    }\n",
        "\n",
        "for i in estudiantes_5d:\n",
        "  print(i)\n",
        "\n",
        "for i in range(len(estudiantes_5c)):\n",
        "    apellido, nombre = estudiantes_5c[i][0].split(',')\n",
        "    estudiantes_5c[i] = {\n",
        "         'apellido' : apellido.strip(),\n",
        "         'nombre' : nombre.strip(),\n",
        "         'curso' : '5C',\n",
        "         'division': estudiantes_5c[i][1],\n",
        "         'fecha_de_nacimiento' : estudiantes_5c [i][2]\n",
        "    }\n",
        "\n",
        "for i in estudiantes_5c:\n",
        "   print(i)\n"
      ],
      "metadata": {
        "id": "S6BLyOPAQHEj",
        "outputId": "4a2b2792-59cf-4324-c479-093716df135d",
        "colab": {
          "base_uri": "https://localhost:8080/"
        }
      },
      "execution_count": 4,
      "outputs": [
        {
          "output_type": "stream",
          "name": "stdout",
          "text": [
            "{'apellido': 'Alurralde', 'nombre': 'Solange Stefania', 'curso': '5D', 'divison': 'D', 'fecha_de_nacimiento': '02/04/2007'}\n",
            "{'apellido': 'Alvarado', 'nombre': 'Ludmila Del Milagro', 'curso': '5D', 'divison': 'D', 'fecha_de_nacimiento': '06/09/2006'}\n",
            "{'apellido': 'Angel', 'nombre': 'Camila Juliana', 'curso': '5D', 'divison': 'D', 'fecha_de_nacimiento': '07/03/2007'}\n",
            "{'apellido': 'Arenas', 'nombre': 'Lucas Gabriel', 'curso': '5D', 'divison': 'D', 'fecha_de_nacimiento': '26/06/2007'}\n",
            "{'apellido': 'Caseres', 'nombre': 'Maria Antonia', 'curso': '5D', 'divison': 'D', 'fecha_de_nacimiento': '01/07/2006'}\n",
            "{'apellido': 'Castillo', 'nombre': 'Paulina Milagros', 'curso': '5D', 'divison': 'D', 'fecha_de_nacimiento': '01/06/2007'}\n",
            "{'apellido': 'Correa Segovia', 'nombre': 'Hugo Mariano', 'curso': '5D', 'divison': 'D', 'fecha_de_nacimiento': '04/12/2006'}\n",
            "{'apellido': 'D Elia', 'nombre': 'Alvaro Tadeo', 'curso': '5D', 'divison': 'D', 'fecha_de_nacimiento': '27/08/2006'}\n",
            "{'apellido': 'Flores', 'nombre': 'Victoria Agustina', 'curso': '5D', 'divison': 'D', 'fecha_de_nacimiento': '12/12/2006'}\n",
            "{'apellido': 'Geronimo Soriano', 'nombre': 'Lizzie Amaya', 'curso': '5D', 'divison': 'D', 'fecha_de_nacimiento': '20/01/2007'}\n",
            "{'apellido': 'Guzman', 'nombre': 'Angélica Morena', 'curso': '5D', 'divison': 'D', 'fecha_de_nacimiento': '11/04/2007'}\n",
            "{'apellido': 'Guzman', 'nombre': 'Jazmin Esmeralda Belen', 'curso': '5D', 'divison': 'D', 'fecha_de_nacimiento': '31/07/2006'}\n",
            "{'apellido': 'Jaime', 'nombre': 'Anita Maria Belen', 'curso': '5D', 'divison': 'D', 'fecha_de_nacimiento': '19/04/2007'}\n",
            "{'apellido': 'Lacour Polo', 'nombre': 'Nazarena', 'curso': '5D', 'divison': 'D', 'fecha_de_nacimiento': '19/12/2005'}\n",
            "{'apellido': 'Lascano Guanca', 'nombre': 'Marcelo Fabricio', 'curso': '5D', 'divison': 'D', 'fecha_de_nacimiento': '17/02/2006'}\n",
            "{'apellido': 'Lezcano', 'nombre': 'Celia Morena', 'curso': '5D', 'divison': 'D', 'fecha_de_nacimiento': '01/07/2005'}\n",
            "{'apellido': 'Martinez', 'nombre': 'Tomas Andres', 'curso': '5D', 'divison': 'D', 'fecha_de_nacimiento': '22/03/2007'}\n",
            "{'apellido': 'Portella Valdivia', 'nombre': 'Pedro Francisco', 'curso': '5D', 'divison': 'D', 'fecha_de_nacimiento': '24/01/2007'}\n",
            "{'apellido': 'Retamal Cisneros', 'nombre': 'Zacarias Josue', 'curso': '5D', 'divison': 'D', 'fecha_de_nacimiento': '24/02/2007'}\n",
            "{'apellido': 'Rosales', 'nombre': 'Francisco Gabriel', 'curso': '5D', 'divison': 'D', 'fecha_de_nacimiento': '14/11/2006'}\n",
            "{'apellido': 'Salem Barba', 'nombre': 'Mahia', 'curso': '5D', 'divison': 'D', 'fecha_de_nacimiento': '14/10/2005'}\n",
            "{'apellido': 'Soto Camara', 'nombre': 'Agustin Ignacio', 'curso': '5D', 'divison': 'D', 'fecha_de_nacimiento': '07/11/2005'}\n",
            "{'apellido': 'Villalba', 'nombre': 'Irina', 'curso': '5D', 'divison': 'D', 'fecha_de_nacimiento': '09/09/2006'}\n",
            "{'apellido': 'Voltolini', 'nombre': 'Emanuel Tobias', 'curso': '5D', 'divison': 'D', 'fecha_de_nacimiento': '17/09/2006'}\n",
            "{'apellido': 'Zalazar', 'nombre': 'Santino Stefano', 'curso': '5D', 'divison': 'D', 'fecha_de_nacimiento': '30/09/2006'}\n",
            "{'apellido': 'Abud Laspiur', 'nombre': 'Lourdes Mariel', 'curso': '5C', 'division': 'C', 'fecha_de_nacimiento': '05/12/2006'}\n",
            "{'apellido': 'Amador', 'nombre': 'Luana Micaela', 'curso': '5C', 'division': 'C', 'fecha_de_nacimiento': '09/12/2006'}\n",
            "{'apellido': 'Anaquin', 'nombre': 'Leonardo Ezequiel', 'curso': '5C', 'division': 'C', 'fecha_de_nacimiento': '06/09/2005'}\n",
            "{'apellido': 'Araoz Sanchez', 'nombre': 'Lautaro Nahuel', 'curso': '5C', 'division': 'C', 'fecha_de_nacimiento': '28/12/2005'}\n",
            "{'apellido': 'Argañaraz', 'nombre': 'Agostina Abril', 'curso': '5C', 'division': 'C', 'fecha_de_nacimiento': '11/10/2006'}\n",
            "{'apellido': 'Barrera', 'nombre': 'Matias Ezequiel', 'curso': '5C', 'division': 'C', 'fecha_de_nacimiento': '27/02/2007'}\n",
            "{'apellido': 'Barrozo Vedia', 'nombre': 'Joaquin Nicolas', 'curso': '5C', 'division': 'C', 'fecha_de_nacimiento': '15/04/2006'}\n",
            "{'apellido': 'Bettinelli', 'nombre': 'Valentino', 'curso': '5C', 'division': 'C', 'fecha_de_nacimiento': '12/07/2006'}\n",
            "{'apellido': 'Bracamonte Martinez', 'nombre': 'Salvador', 'curso': '5C', 'division': 'C', 'fecha_de_nacimiento': '02/11/2005'}\n",
            "{'apellido': 'Colque Rivero', 'nombre': 'Ariana Zoe Del Valle', 'curso': '5C', 'division': 'C', 'fecha_de_nacimiento': '27/12/2006'}\n",
            "{'apellido': 'Diaz', 'nombre': 'Dulce Maitena', 'curso': '5C', 'division': 'C', 'fecha_de_nacimiento': '11/12/2006'}\n",
            "{'apellido': 'Figueroa', 'nombre': 'Santino Josue', 'curso': '5C', 'division': 'C', 'fecha_de_nacimiento': '12/05/2007'}\n",
            "{'apellido': 'Flores Cardozo', 'nombre': 'Agustina Tiara', 'curso': '5C', 'division': 'C', 'fecha_de_nacimiento': '18/03/2006'}\n",
            "{'apellido': 'Gallo', 'nombre': 'Octavio Ismael', 'curso': '5C', 'division': 'C', 'fecha_de_nacimiento': '04/08/2006'}\n",
            "{'apellido': 'Galvan', 'nombre': 'Lourdes Yamila', 'curso': '5C', 'division': 'C', 'fecha_de_nacimiento': '19/08/2005'}\n",
            "{'apellido': 'Giangreco', 'nombre': 'Vitto Tomasso', 'curso': '5C', 'division': 'C', 'fecha_de_nacimiento': '21/03/2007'}\n",
            "{'apellido': 'Grancara', 'nombre': 'Martina Luna', 'curso': '5C', 'division': 'C', 'fecha_de_nacimiento': '15/12/2006'}\n",
            "{'apellido': 'Guanca', 'nombre': 'Sara Elizabeth', 'curso': '5C', 'division': 'C', 'fecha_de_nacimiento': '17/01/2007'}\n",
            "{'apellido': 'Lopez', 'nombre': 'Victoria Constanza', 'curso': '5C', 'division': 'C', 'fecha_de_nacimiento': '12/11/2007'}\n",
            "{'apellido': 'Mamani Garrido', 'nombre': 'Rosario Agostina', 'curso': '5C', 'division': 'C', 'fecha_de_nacimiento': '24/10/2006'}\n",
            "{'apellido': 'Marinaro', 'nombre': 'Martin Ezequiel', 'curso': '5C', 'division': 'C', 'fecha_de_nacimiento': '03/11/2006'}\n",
            "{'apellido': 'Merluzzi Dagum', 'nombre': 'Ignacio', 'curso': '5C', 'division': 'C', 'fecha_de_nacimiento': '22/12/2005'}\n",
            "{'apellido': 'Messina', 'nombre': 'Martina', 'curso': '5C', 'division': 'C', 'fecha_de_nacimiento': '13/07/2005'}\n",
            "{'apellido': 'Rasuk', 'nombre': 'Karim', 'curso': '5C', 'division': 'C', 'fecha_de_nacimiento': '13/07/2007'}\n",
            "{'apellido': 'Rios', 'nombre': 'Lucia Magali', 'curso': '5C', 'division': 'C', 'fecha_de_nacimiento': '22/09/2006'}\n",
            "{'apellido': 'Sanchez Flores', 'nombre': 'Matías Agustín', 'curso': '5C', 'division': 'C', 'fecha_de_nacimiento': '15/02/2007'}\n",
            "{'apellido': 'Scarano', 'nombre': 'Renato Marcelo', 'curso': '5C', 'division': 'C', 'fecha_de_nacimiento': '06/12/2006'}\n",
            "{'apellido': 'Sierra', 'nombre': 'Lucas Mauricio', 'curso': '5C', 'division': 'C', 'fecha_de_nacimiento': '03/04/2005'}\n",
            "{'apellido': 'Tapia', 'nombre': 'Martin Gabriel', 'curso': '5C', 'division': 'C', 'fecha_de_nacimiento': '30/05/2006'}\n",
            "{'apellido': 'Vilte', 'nombre': 'Mia Antonella Alondra', 'curso': '5C', 'division': 'C', 'fecha_de_nacimiento': '10/09/2005'}\n",
            "{'apellido': 'Virgillito', 'nombre': 'Katya Milena', 'curso': '5C', 'division': 'C', 'fecha_de_nacimiento': '19/06/2007'}\n"
          ]
        }
      ]
    },
    {
      "cell_type": "markdown",
      "source": [
        "3. Genera un diccionario en python, en donde la clave sea cada nombre que aparece en las listas y el valor será la cantidad de veces que se encuentra el mismo.\n",
        "Para este punto es posible fusionar ambas listas en una sola, recordá que hay un método que realiza esta acción.\n",
        "\n",
        "Mostrá la informacion generada"
      ],
      "metadata": {
        "id": "UW2dlBsGMAte"
      }
    },
    {
      "cell_type": "code",
      "source": [
        "dic_estudiantes = {}\n",
        "for i in estudiantes_5d:\n",
        "  if i ['nombre'] in dic_estudiantes:\n",
        "    dic_estudiantes[i['nombre']] += 1\n",
        "  else:\n",
        "    dic_estudiantes[i['nombre']] = 1\n",
        "\n",
        "for i in estudiantes_5c:\n",
        "  if i ['nombre'] in dic_estudiantes:\n",
        "    dic_estudiantes[i['nombre']] +=1\n",
        "  else:\n",
        "    dic_estudiantes[i['nombre']] = 1\n",
        "\n",
        "for i in dic_estudiantes:\n",
        "  print(i, dic_estudiantes[i])"
      ],
      "metadata": {
        "id": "EawAy4SANtkl",
        "outputId": "deb8102a-50ac-4752-b603-a6dbcdca80f7",
        "colab": {
          "base_uri": "https://localhost:8080/"
        }
      },
      "execution_count": 8,
      "outputs": [
        {
          "output_type": "stream",
          "name": "stdout",
          "text": [
            "Solange Stefania 1\n",
            "Ludmila Del Milagro 1\n",
            "Camila Juliana 1\n",
            "Lucas Gabriel 1\n",
            "Maria Antonia 1\n",
            "Paulina Milagros 1\n",
            "Hugo Mariano 1\n",
            "Alvaro Tadeo 1\n",
            "Victoria Agustina 1\n",
            "Lizzie Amaya 1\n",
            "Angélica Morena 1\n",
            "Jazmin Esmeralda Belen 1\n",
            "Anita Maria Belen 1\n",
            "Nazarena 1\n",
            "Marcelo Fabricio 1\n",
            "Celia Morena 1\n",
            "Tomas Andres 1\n",
            "Pedro Francisco 1\n",
            "Zacarias Josue 1\n",
            "Francisco Gabriel 1\n",
            "Mahia 1\n",
            "Agustin Ignacio 1\n",
            "Irina 1\n",
            "Emanuel Tobias 1\n",
            "Santino Stefano 1\n",
            "Lourdes Mariel 1\n",
            "Luana Micaela 1\n",
            "Leonardo Ezequiel 1\n",
            "Lautaro Nahuel 1\n",
            "Agostina Abril 1\n",
            "Matias Ezequiel 1\n",
            "Joaquin Nicolas 1\n",
            "Valentino 1\n",
            "Salvador 1\n",
            "Ariana Zoe Del Valle 1\n",
            "Dulce Maitena 1\n",
            "Santino Josue 1\n",
            "Agustina Tiara 1\n",
            "Octavio Ismael 1\n",
            "Lourdes Yamila 1\n",
            "Vitto Tomasso 1\n",
            "Martina Luna 1\n",
            "Sara Elizabeth 1\n",
            "Victoria Constanza 1\n",
            "Rosario Agostina 1\n",
            "Martin Ezequiel 1\n",
            "Ignacio 1\n",
            "Martina 1\n",
            "Karim 1\n",
            "Lucia Magali 1\n",
            "Matías Agustín 1\n",
            "Renato Marcelo 1\n",
            "Lucas Mauricio 1\n",
            "Martin Gabriel 1\n",
            "Mia Antonella Alondra 1\n",
            "Katya Milena 1\n"
          ]
        }
      ]
    },
    {
      "cell_type": "markdown",
      "source": [
        "4. Genera un diccionario en python, en donde la clave sea cada apellido que aparece en las listas y el valor será la cantidad de veces que se encuentra el mismo.\n",
        "Para este punto es posible fusionar ambas listas en una sola, recordá que hay un método que realiza esta acción."
      ],
      "metadata": {
        "id": "kZeEHUYVNwGV"
      }
    },
    {
      "cell_type": "code",
      "source": [
        "dic_estudiantes = {}\n",
        "for i in estudiantes_5d:\n",
        "  if i['apellido'] in dic_estudiantes:\n",
        "     dic_estudiantes[i['apellido']] += 1\n",
        "  else:\n",
        "    dic_estudiantes[i['apellido']] = 1\n",
        "\n",
        "for i in estudiantes_5c:\n",
        "  if i['apellido'] in dic_estudiantes:\n",
        "     dic_estudiantes[i['apellido']] += 1\n",
        "  else:\n",
        "    dic_estudiantes[i['apellido']] = 1\n",
        "\n",
        "for i in dic_estudiantes:\n",
        "  print(i, dic_estudiantes[i])"
      ],
      "metadata": {
        "id": "q05GnxXgORzt",
        "outputId": "d744fcd8-f3de-4f34-eee2-3b00fd3eb62b",
        "colab": {
          "base_uri": "https://localhost:8080/"
        }
      },
      "execution_count": 9,
      "outputs": [
        {
          "output_type": "stream",
          "name": "stdout",
          "text": [
            "Alurralde 1\n",
            "Alvarado 1\n",
            "Angel 1\n",
            "Arenas 1\n",
            "Caseres 1\n",
            "Castillo 1\n",
            "Correa Segovia 1\n",
            "D Elia 1\n",
            "Flores 1\n",
            "Geronimo Soriano 1\n",
            "Guzman 2\n",
            "Jaime 1\n",
            "Lacour Polo 1\n",
            "Lascano Guanca 1\n",
            "Lezcano 1\n",
            "Martinez 1\n",
            "Portella Valdivia 1\n",
            "Retamal Cisneros 1\n",
            "Rosales 1\n",
            "Salem Barba 1\n",
            "Soto Camara 1\n",
            "Villalba 1\n",
            "Voltolini 1\n",
            "Zalazar 1\n",
            "Abud Laspiur 1\n",
            "Amador 1\n",
            "Anaquin 1\n",
            "Araoz Sanchez 1\n",
            "Argañaraz 1\n",
            "Barrera 1\n",
            "Barrozo Vedia 1\n",
            "Bettinelli 1\n",
            "Bracamonte Martinez 1\n",
            "Colque Rivero 1\n",
            "Diaz 1\n",
            "Figueroa 1\n",
            "Flores Cardozo 1\n",
            "Gallo 1\n",
            "Galvan 1\n",
            "Giangreco 1\n",
            "Grancara 1\n",
            "Guanca 1\n",
            "Lopez 1\n",
            "Mamani Garrido 1\n",
            "Marinaro 1\n",
            "Merluzzi Dagum 1\n",
            "Messina 1\n",
            "Rasuk 1\n",
            "Rios 1\n",
            "Sanchez Flores 1\n",
            "Scarano 1\n",
            "Sierra 1\n",
            "Tapia 1\n",
            "Vilte 1\n",
            "Virgillito 1\n"
          ]
        }
      ]
    },
    {
      "cell_type": "markdown",
      "source": [
        "5. Solicita al usuario que ingrese un apellido y muestra  a todos los estudiantes con ese apellido."
      ],
      "metadata": {
        "id": "ywYmA2JQNp3T"
      }
    },
    {
      "cell_type": "code",
      "source": [
        "apellido = input(\"Ingrese un apellido: \").title()\n",
        "for i in estudiantes_5d:\n",
        "  if apellido in i['apellido']:\n",
        "    print(i)\n",
        "\n",
        "for i in estudiantes_5c:\n",
        "  if apellido in i ['apellido']:\n",
        "    print(i)"
      ],
      "metadata": {
        "id": "Cnp334ZrOCjK",
        "outputId": "9cea669b-2d7f-4c2e-f6ee-0dcd9651b9c8",
        "colab": {
          "base_uri": "https://localhost:8080/",
          "height": 228
        }
      },
      "execution_count": 24,
      "outputs": [
        {
          "name": "stdout",
          "output_type": "stream",
          "text": [
            "Ingrese un apellido: Alvarado\n"
          ]
        },
        {
          "output_type": "error",
          "ename": "TypeError",
          "evalue": "tuple indices must be integers or slices, not str",
          "traceback": [
            "\u001b[0;31m---------------------------------------------------------------------------\u001b[0m",
            "\u001b[0;31mTypeError\u001b[0m                                 Traceback (most recent call last)",
            "\u001b[0;32m<ipython-input-24-f02d5fc9fbb5>\u001b[0m in \u001b[0;36m<cell line: 2>\u001b[0;34m()\u001b[0m\n\u001b[1;32m      1\u001b[0m \u001b[0mapellido\u001b[0m \u001b[0;34m=\u001b[0m \u001b[0minput\u001b[0m\u001b[0;34m(\u001b[0m\u001b[0;34m\"Ingrese un apellido: \"\u001b[0m\u001b[0;34m)\u001b[0m\u001b[0;34m.\u001b[0m\u001b[0mtitle\u001b[0m\u001b[0;34m(\u001b[0m\u001b[0;34m)\u001b[0m\u001b[0;34m\u001b[0m\u001b[0;34m\u001b[0m\u001b[0m\n\u001b[1;32m      2\u001b[0m \u001b[0;32mfor\u001b[0m \u001b[0mi\u001b[0m \u001b[0;32min\u001b[0m \u001b[0mestudiantes_5d\u001b[0m\u001b[0;34m:\u001b[0m\u001b[0;34m\u001b[0m\u001b[0;34m\u001b[0m\u001b[0m\n\u001b[0;32m----> 3\u001b[0;31m   \u001b[0;32mif\u001b[0m \u001b[0mapellido\u001b[0m \u001b[0;32min\u001b[0m \u001b[0mi\u001b[0m \u001b[0;34m[\u001b[0m\u001b[0;34m'apellido'\u001b[0m\u001b[0;34m]\u001b[0m\u001b[0;34m:\u001b[0m\u001b[0;34m\u001b[0m\u001b[0;34m\u001b[0m\u001b[0m\n\u001b[0m\u001b[1;32m      4\u001b[0m     \u001b[0mprint\u001b[0m\u001b[0;34m(\u001b[0m\u001b[0mi\u001b[0m\u001b[0;34m)\u001b[0m\u001b[0;34m\u001b[0m\u001b[0;34m\u001b[0m\u001b[0m\n\u001b[1;32m      5\u001b[0m \u001b[0;34m\u001b[0m\u001b[0m\n",
            "\u001b[0;31mTypeError\u001b[0m: tuple indices must be integers or slices, not str"
          ]
        }
      ]
    },
    {
      "cell_type": "markdown",
      "source": [
        "6. Solicita al usuario que ingrese un nombre y muestra a todos los estudiantes con el nombre ingresado."
      ],
      "metadata": {
        "id": "iAXts6saODoU"
      }
    },
    {
      "cell_type": "code",
      "source": [
        "nombre = input(\"ingrese un nombre: \").title()\n",
        "for i in estudiantes_5d:\n",
        "  if nombre in i ['nombre']:\n",
        "    print(i)\n",
        "\n",
        "for i in estudiantes_5c:\n",
        "   if nombre in i ['nombre']:\n",
        "    print(i)"
      ],
      "metadata": {
        "id": "FMRsUlvtOJS_",
        "outputId": "b223836c-c238-491a-e208-98840a7f16bf",
        "colab": {
          "base_uri": "https://localhost:8080/",
          "height": 228
        }
      },
      "execution_count": 20,
      "outputs": [
        {
          "name": "stdout",
          "output_type": "stream",
          "text": [
            "ingrese un nombre: morena\n"
          ]
        },
        {
          "output_type": "error",
          "ename": "TypeError",
          "evalue": "tuple indices must be integers or slices, not str",
          "traceback": [
            "\u001b[0;31m---------------------------------------------------------------------------\u001b[0m",
            "\u001b[0;31mTypeError\u001b[0m                                 Traceback (most recent call last)",
            "\u001b[0;32m<ipython-input-20-1d0f872b65f2>\u001b[0m in \u001b[0;36m<cell line: 2>\u001b[0;34m()\u001b[0m\n\u001b[1;32m      1\u001b[0m \u001b[0mnombre\u001b[0m \u001b[0;34m=\u001b[0m \u001b[0minput\u001b[0m\u001b[0;34m(\u001b[0m\u001b[0;34m\"ingrese un nombre: \"\u001b[0m\u001b[0;34m)\u001b[0m\u001b[0;34m.\u001b[0m\u001b[0mtitle\u001b[0m\u001b[0;34m(\u001b[0m\u001b[0;34m)\u001b[0m\u001b[0;34m\u001b[0m\u001b[0;34m\u001b[0m\u001b[0m\n\u001b[1;32m      2\u001b[0m \u001b[0;32mfor\u001b[0m \u001b[0mi\u001b[0m \u001b[0;32min\u001b[0m \u001b[0mestudiantes_5d\u001b[0m\u001b[0;34m:\u001b[0m\u001b[0;34m\u001b[0m\u001b[0;34m\u001b[0m\u001b[0m\n\u001b[0;32m----> 3\u001b[0;31m   \u001b[0;32mif\u001b[0m \u001b[0mnombre\u001b[0m \u001b[0;32min\u001b[0m \u001b[0mi\u001b[0m \u001b[0;34m[\u001b[0m\u001b[0;34m'nombre'\u001b[0m\u001b[0;34m]\u001b[0m\u001b[0;34m:\u001b[0m\u001b[0;34m\u001b[0m\u001b[0;34m\u001b[0m\u001b[0m\n\u001b[0m\u001b[1;32m      4\u001b[0m     \u001b[0mprint\u001b[0m\u001b[0;34m(\u001b[0m\u001b[0mi\u001b[0m\u001b[0;34m)\u001b[0m\u001b[0;34m\u001b[0m\u001b[0;34m\u001b[0m\u001b[0m\n\u001b[1;32m      5\u001b[0m \u001b[0;34m\u001b[0m\u001b[0m\n",
            "\u001b[0;31mTypeError\u001b[0m: tuple indices must be integers or slices, not str"
          ]
        }
      ]
    },
    {
      "cell_type": "markdown",
      "source": [
        "7. Busca el diccionario con tu información dentro de la lista y cámbiate de división, de tal manera que si estas en 5C, con el cambio quedes en 5D y viceversa."
      ],
      "metadata": {
        "id": "T4PFiwwdOK27"
      }
    },
    {
      "cell_type": "code",
      "source": [
        "\n",
        "nombre = input(\"Ingrese su nombre: \").title()\n",
        "for i in estudiantes_5d:\n",
        "  if nombre in i['nombre']:\n",
        "    i['division'] = 'D'\n",
        "    i.update({'curso': '5D'})\n",
        "    print(i)\n",
        "\n",
        "for i in estudiantes_5c:\n",
        "  if nombre in i['nombre']:\n",
        "    i['division'] = 'D'\n",
        "    i.update({'curso': '5D'})\n",
        "    print(i)"
      ],
      "metadata": {
        "id": "vjQ2X9x3OmFr"
      },
      "execution_count": null,
      "outputs": []
    },
    {
      "cell_type": "markdown",
      "source": [
        "8. Ordenar la lista alfabeticamente por nombre. Ascendente y descendentemente. Para elegir como ordenarla, mostrar un menú donde el usuario podrá decidir como quiere ver la salida."
      ],
      "metadata": {
        "id": "xfy8SFlZRVGf"
      }
    },
    {
      "cell_type": "code",
      "source": [
        "\n",
        "print(\"\"\"\n",
        "1. Ordenar alfabeticamente por nombre de manera ascendente\n",
        "2. Ordenar alfabeticamente por nombre de manera descendente\n",
        "\"\"\")\n",
        "opcion = int(input(\"Ingrese una opcion\"))"
      ],
      "metadata": {
        "id": "E4Onk1FNRUa2"
      },
      "execution_count": null,
      "outputs": []
    },
    {
      "cell_type": "markdown",
      "source": [
        "9. Ordenar la lista alfabeticamente por apellido. Ascendente y descendentemente. Para elegir como ordenarla, mostrar un menú donde el usuario podrá decidir como quiere ver la salida."
      ],
      "metadata": {
        "id": "lW18NgPjRcGP"
      }
    },
    {
      "cell_type": "code",
      "source": [],
      "metadata": {
        "id": "jTtWBnalRcoC"
      },
      "execution_count": null,
      "outputs": []
    },
    {
      "cell_type": "markdown",
      "source": [
        "10. Ordena la lista por fecha de nacimiento, de manera ascendente y descendente."
      ],
      "metadata": {
        "id": "E24lH7x5Xbur"
      }
    },
    {
      "cell_type": "code",
      "source": [],
      "metadata": {
        "id": "9SeI3GBGXims"
      },
      "execution_count": null,
      "outputs": []
    },
    {
      "cell_type": "markdown",
      "source": [
        "11. Generar una estuctura de diccionario anidado en donde la clave sea el nombre del estudiante y el valor sea un diccionario con los datos del mismo, de la siguiente manera:\n",
        "\n",
        "\n",
        "\n",
        "\n",
        "```python\n",
        "estudiantes = {\n",
        "    \"Juan Perez\": {\n",
        "        \"año\": 2024,\n",
        "        \"división\": \"5D\",\n",
        "        \"fecha de nacimiento\": \"15/03/2006\"\n",
        "    },\n",
        "    \"Maria Gomez\": {\n",
        "        \"año\": 2024,\n",
        "        \"división\": \"5D\",\n",
        "        \"fecha de nacimiento\": \"22/07/2006\"\n",
        "    },\n",
        "    \"Carlos Lopez\": {\n",
        "        \"año\": 2024,\n",
        "        \"división\": \"5D\",\n",
        "        \"fecha de nacimiento\": \"05/10/2006\"\n",
        "    }\n",
        "}\n",
        "```\n",
        "\n",
        "\n",
        "\n",
        "\n"
      ],
      "metadata": {
        "id": "vOY6K_ydRc3Q"
      }
    },
    {
      "cell_type": "code",
      "source": [],
      "metadata": {
        "id": "9JDrd3WqRdTi"
      },
      "execution_count": null,
      "outputs": []
    }
  ]
}